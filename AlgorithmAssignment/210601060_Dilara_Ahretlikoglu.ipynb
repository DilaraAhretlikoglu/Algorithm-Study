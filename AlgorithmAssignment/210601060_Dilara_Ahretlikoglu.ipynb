{
 "cells": [
  {
   "cell_type": "markdown",
   "id": "7210573c",
   "metadata": {},
   "source": [
    "## Arkadaş Sayı Fonksiyonu"
   ]
  },
  {
   "cell_type": "code",
   "execution_count": 1,
   "id": "9c1d5d0a",
   "metadata": {},
   "outputs": [
    {
     "name": "stdout",
     "output_type": "stream",
     "text": [
      "İlk sayiyi girin:220\n",
      "İkinci sayiyi girin:284\n",
      "220 ve 284 sayilari arkadastir.\n"
     ]
    }
   ],
   "source": [
    "def arkadas_mi(birinci_deger, ikinci_deger):\n",
    "    bolen_toplam1 = 0\n",
    "    bolen_toplam2 = 0\n",
    "    for i in range(1, birinci_deger):\n",
    "        if birinci_deger % i == 0:\n",
    "            bolen_toplam1 += i\n",
    "    if bolen_toplam1 == ikinci_deger:\n",
    "        for j in range(1, ikinci_deger):\n",
    "            if ikinci_deger % j == 0:\n",
    "                bolen_toplam2 += j\n",
    "        if bolen_toplam2 == birinci_deger:\n",
    "            return \"{} ve {} sayilari arkadastir.\".format(birinci_deger, ikinci_deger)\n",
    "        else:\n",
    "            return \"{} ve {} sayilari arkadas degildir.\".format(birinci_deger, ikinci_deger)\n",
    "    else:\n",
    "        return \"{} ve {} sayilari arkadas degildir.\".format(birinci_deger, ikinci_deger)\n",
    "\n",
    "\n",
    "birinci_sayi = int(input(\"İlk sayiyi girin:\"))\n",
    "ikinci_sayi = int(input(\"İkinci sayiyi girin:\"))\n",
    "print(arkadas_mi(birinci_sayi, ikinci_sayi))\n"
   ]
  },
  {
   "cell_type": "markdown",
   "id": "defb112b",
   "metadata": {},
   "source": [
    "## Mükemmel Sayı Fonksiyonu"
   ]
  },
  {
   "cell_type": "code",
   "execution_count": 2,
   "id": "52ed7ddf",
   "metadata": {},
   "outputs": [
    {
     "name": "stdout",
     "output_type": "stream",
     "text": [
      "Sayi girin:6\n",
      "6 sayısı mükemmel sayıdır.\n"
     ]
    }
   ],
   "source": [
    "def mukemmel_mi(sayi):\n",
    "    bolen_toplam = 0\n",
    "    for i in range(1, sayi):\n",
    "        if sayi % i == 0:\n",
    "            bolen_toplam += i\n",
    "    return bolen_toplam == sayi\n",
    "    \n",
    "\n",
    "deger=int(input(\"Sayi girin:\"))\n",
    "if mukemmel_mi(deger):\n",
    "    print(\"{} sayısı mükemmel sayıdır.\".format(deger))\n",
    "else:\n",
    "    print(\"{} sayısı mükemmel sayı değildir.\".format(deger))"
   ]
  },
  {
   "cell_type": "code",
   "execution_count": null,
   "id": "8a1f9f42",
   "metadata": {},
   "outputs": [],
   "source": []
  }
 ],
 "metadata": {
  "kernelspec": {
   "display_name": "Python 3 (ipykernel)",
   "language": "python",
   "name": "python3"
  },
  "language_info": {
   "codemirror_mode": {
    "name": "ipython",
    "version": 3
   },
   "file_extension": ".py",
   "mimetype": "text/x-python",
   "name": "python",
   "nbconvert_exporter": "python",
   "pygments_lexer": "ipython3",
   "version": "3.9.13"
  }
 },
 "nbformat": 4,
 "nbformat_minor": 5
}
